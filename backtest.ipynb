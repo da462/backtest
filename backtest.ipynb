{
 "cells": [
  {
   "cell_type": "code",
   "execution_count": 1,
   "metadata": {},
   "outputs": [],
   "source": [
    "import pandas as pd\n",
    "import numpy as np\n",
    "import matplotlib.pyplot as plt\n",
    "import seaborn as sns\n",
    "import os\n",
    "plt.style.use('ggplot')\n",
    "# pd.set_option('max_columns', 50)"
   ]
  },
  {
   "cell_type": "code",
   "execution_count": 3,
   "metadata": {},
   "outputs": [
    {
     "data": {
      "text/plain": [
       "'c:\\\\Users\\\\admin\\\\Desktop\\\\backtest'"
      ]
     },
     "execution_count": 3,
     "metadata": {},
     "output_type": "execute_result"
    }
   ],
   "source": [
    "os.getcwd()"
   ]
  },
  {
   "cell_type": "code",
   "execution_count": 7,
   "metadata": {},
   "outputs": [],
   "source": [
    "df_ret = pd.read_csv(r'c:\\Users\\admin\\Desktop\\backtest\\ret.csv').set_index('Dates')\n",
    "df_ret.index = pd.to_datetime(df_ret.index)"
   ]
  },
  {
   "cell_type": "code",
   "execution_count": 14,
   "metadata": {},
   "outputs": [
    {
     "data": {
      "text/plain": [
       "DatetimeIndex(['2020-01-01', '2020-01-02', '2020-01-03', '2020-01-06',\n",
       "               '2020-01-07', '2020-01-08', '2020-01-09', '2020-01-10',\n",
       "               '2020-01-13', '2020-01-14',\n",
       "               ...\n",
       "               '2021-12-20', '2021-12-21', '2021-12-22', '2021-12-23',\n",
       "               '2021-12-24', '2021-12-27', '2021-12-28', '2021-12-29',\n",
       "               '2021-12-30', '2021-12-31'],\n",
       "              dtype='datetime64[ns]', name='Dates', length=523, freq=None)"
      ]
     },
     "execution_count": 14,
     "metadata": {},
     "output_type": "execute_result"
    }
   ],
   "source": [
    "df_ret"
   ]
  },
  {
   "cell_type": "code",
   "execution_count": null,
   "metadata": {},
   "outputs": [],
   "source": [
    "def pnl_hedge(ser_pnl, df_signal): \n",
    "    infp = PurePath('/home/dahmed/data/tree_data/S&P_rolled.parquet') \n",
    "    Rm = pd.read_parquet(infp).pct_change() \n",
    "    Rs = df_return 6 Rm = Rm.reindex(index = Rs.index).squeeze() \n",
    "    \n",
    "    # calculate rolling beta value \n",
    "    num = Rs.mul(Rm, axis=0).rolling(60).mean() \n",
    "    den = (Rm**2).rolling(60).mean() \n",
    "    betas = num.div(den,0) \n",
    "    excess_return = ser_pnl - ( (betas*df_signal.shift(1)).sum(1) * Rm ) \n",
    "    \n",
    "    return excess_return"
   ]
  },
  {
   "cell_type": "code",
   "execution_count": null,
   "metadata": {},
   "outputs": [],
   "source": [
    "def backtest(df_signal, name, beta): \n",
    "    df_pnl = df_return * df_signal.shift(1) \n",
    "    ser_pnl = df_pnl.sum(1) \n",
    "    if beta: ser_pnl = pnl_hedge(ser_pnl, df_signal) \n",
    "    cum_pnl = ser_pnl.cumsum() \n",
    "    vol = ser_pnl.std() \n",
    "    \n",
    "    # change in the number of the stocks I hold \n",
    "    df_number_of_stocks = df_signal/df_price\n",
    "    ser_trades = (df_number_of_stocks.diff() * df_price).abs().sum(1) \n",
    "    ser_gmv = df_signal.abs().sum(1)\n",
    "    ser_turnover = ser_trades/(ser_gmv.shift(1)) \n",
    "    \n",
    "    # gmv yesterday was zero control \n",
    "    counter = 0\n",
    "    for i in range(len(ser_turnover)): \n",
    "        if ser_turnover[i] == np.inf or ser_turnover[i] == -np.inf: counter += 1\n",
    "    print(f'number of infs: {counter}')\n",
    "    ser_turnover.replace([np.inf, -np.inf], 0, inplace=True) \n",
    "    \n",
    "    # trades executed (dollar) and turnover\n",
    "    trades, turn = ser_trades.sum(), ser_turnover.mean() \n",
    "    # total gross pnl (dollar) \n",
    "    gross_pnl = ser_pnl.sum() \n",
    "    # average gross pnl (dollar) \n",
    "    avg_gross_pnl = ser_pnl.mean()\n",
    "    # total net pnl (dollar), 2bps for eu per dollar trade \n",
    "    net_pnl = ser_pnl.sum() - trades*2/10000 46 \n",
    "    # average net pnl for nSR calculation \n",
    "    avg_net_pnl = net_pnl/len(ser_pnl) \n",
    "    # gross SR \n",
    "    # 16 because 256 for mean and 16 for std \n",
    "    SR = 16*avg_gross_pnl/vol \n",
    "    # net SR \n",
    "    nSR = 16*avg_net_pnl/vol \n",
    "    # return per dollar traded given in bps \n",
    "    gbias = 10000*gross_pnl/trades \n",
    "    # net return per dollar traded given in bps \n",
    "    nbias = 10000*net_pnl/trades \n",
    "    \n",
    "    # MDD scaled by vol \n",
    "    MDD = cum_pnl.cummax().sub(cum_pnl, axis=0).max() \n",
    "    MDD = MDD/vol \n",
    "    return [cum_pnl.ffill().iloc[-1], SR, nSR, turn*100, 2/turn, gbias, nbias, MDD, vol], cum_pnl/vol, ser_gmv \n"
   ]
  },
  {
   "cell_type": "code",
   "execution_count": null,
   "metadata": {},
   "outputs": [],
   "source": [
    "def calculate(*args, beta = False, gmv = False, delta = False, clip = False): \n",
    "    df_description = pd.DataFrame(columns=['final gross pnl', 'sharpe ratio', 'net sharpe \\n ratio', 'turnover (%)', ' holding period \\n (days)', 'gross bias \\n (bps)', 'net bias (bps)', 'mdd', 'daily std']) 68 69 idxs = [] 70 pnls = [] 71 market_values = [] 72 73 for i, arg in enumerate(*args): 74 # if arg == 'influential': 75 # df_strat = influential(li) 76 # if arg == 'non influential': 77 # df_strat = influential(lni) 78 if arg == 'hold': 79 df_strat = subset() 80 # if arg == 'baseline': 81 # df_strat = baseline() 82 83 if delta: 84 df_strat = df_strat.sub(df_strat.mean(1), axis = 0) 85 # if gmv: 86 # df_strat = df_strat.div(df_strat.abs().sum(1), axis=0) * 10 87 # if clip: 88 # ser_sum = df_strat.sum(1) 89 90 statistics, cumulative_pnl, mv = backtest(df_strat, arg, beta) 91 pnls.append((cumulative_pnl, arg)) 92 market_values.append(mv) 93 df_description.loc[len(df_description)] = statistics 94 idxs.append(f'{arg}') 95 96 df_description.index = idxs 97 df_description = df_description.round(decimals=4) 98 99 return df_description, pnls, market_values 100 def plots(notes, gmvs, *args, beta = False): 101 102 names = [] 103 104 plt.figure(figsize=(15,7)) 105 for i, arg in enumerate(*args): 106 plt.plot(arg[0].index, arg[0].values, label = f'{arg[1]}') 107 names.append(arg[1]) 108 plt.xlabel('t') 109 110 if beta: 111 plt.title(f'Excess PnL from beta hedging' r' (scaled by $\\sigma_{daily}$)' f' | {notes}') 112 plt.ylabel('Excess PnL') 113 else: 8/24/23, 11:16 AM merged.ipynb localhost:44831/c96ec148-732c-414b-bb08-f01a273d52f3/ 3/3 114 plt.title(f'Cummulative PnL' r' (scaled by $\\sigma_{daily}$)' f' | {notes}') 115 plt.ylabel('Cummulative PnL') 116 117 plt.legend() 118 plt.grid() 119 120 the_table = plt.table(cellText=full_table.values,colWidths = [0.111]*len(full_table.columns), 121 rowLabels=full_table.index, colLabels=full_table.columns, 122 cellLoc = 'center', rowLoc = 'center', loc='top', bbox=[0, 1.055, 1, 0.35]) 123 124 the_table.auto_set_font_size(False) 125 the_table.set_fontsize(11) 126 plt.show() 127 128 plt.figure(figsize=(5,3)) 129 for i, gmv in enumerate(gmvs): 130 gmv.plot(label = f'{names[i]}') 131 plt.legend() 132 plt.title('gross market value') 133 plt.show() 134 # beta hedge pnl 135 # full_table, signals= calculate((('baseline'),), beta = False) 136 # plots('high market cap stocks', signals, beta = False) 137 # with open('/home/dahmed/pythia/rui_high_stocks.pkl', 'rb') as f: 138 # idqis = pickle.load(f) 139 140 # print(len(idqis)"
   ]
  }
 ],
 "metadata": {
  "kernelspec": {
   "display_name": "Python 3",
   "language": "python",
   "name": "python3"
  },
  "language_info": {
   "codemirror_mode": {
    "name": "ipython",
    "version": 3
   },
   "file_extension": ".py",
   "mimetype": "text/x-python",
   "name": "python",
   "nbconvert_exporter": "python",
   "pygments_lexer": "ipython3",
   "version": "3.10.6"
  }
 },
 "nbformat": 4,
 "nbformat_minor": 2
}
